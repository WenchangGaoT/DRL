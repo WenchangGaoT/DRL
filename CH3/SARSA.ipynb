{
  "cells": [
    {
      "cell_type": "markdown",
      "metadata": {
        "id": "H9n-gjTj1QTi"
      },
      "source": [
        "# Chapter 3: SARSA\n",
        "## Author: Wenchang Gao"
      ]
    },
    {
      "cell_type": "code",
      "source": [
        "import torch\n",
        "import torch.nn as nn\n",
        "import torch.nn.functional as F\n",
        "import torch.optim as optim\n",
        "\n",
        "import matplotlib.pyplot as plt\n",
        "import numpy as np\n",
        "import gym\n",
        "\n",
        "import time\n",
        "import os"
      ],
      "metadata": {
        "id": "iqChZVLu1Sbd"
      },
      "execution_count": 1,
      "outputs": []
    },
    {
      "cell_type": "markdown",
      "source": [
        "Corridor and TD example"
      ],
      "metadata": {
        "id": "31Klz_td-_f_"
      }
    },
    {
      "cell_type": "code",
      "source": [
        "class Corridor:\n",
        "\n",
        "  def __init__(self):\n",
        "    self.board = range(5)\n",
        "    self.state = 1\n",
        "    self.observation_space = 5\n",
        "    self.action_space = 2\n",
        "  \n",
        "  def step(self, action):\n",
        "    state_prime = self.state+1 if action == 0 else self.state-1\n",
        "    self.state = state_prime\n",
        "    done = (state_prime==0) or (state_prime==4)\n",
        "    reward = 1 if state_prime==4 else 0\n",
        "    return state_prime, reward, done\n",
        "  \n",
        "  def reset(self):\n",
        "    self.state = 1\n",
        "    return self.state\n",
        "  \n",
        "  def render(self):\n",
        "    for i in range(5):\n",
        "      print(i if self.state!=i else '*', end=' ')\n",
        "    print('')\n"
      ],
      "metadata": {
        "id": "xpxp-AS42hk7"
      },
      "execution_count": null,
      "outputs": []
    },
    {
      "cell_type": "code",
      "source": [
        "class TabularSARSA:\n",
        "\n",
        "  def __init__(self, obs, act, gamma=0.99, epsilon=0.3):\n",
        "    self.q_table = np.zeros((obs, act), dtype=np.float32)\n",
        "    self.epsilon = epsilon\n",
        "    self.gamma = gamma\n",
        "  \n",
        "  def print_table(self):\n",
        "    for i in range(len(self.q_table)):\n",
        "      for j in range(len(self.q_table[i])):\n",
        "        print(self.q_table[i][j], end=' ')\n",
        "      print('')\n",
        "    print('')\n",
        "\n",
        "  def act(self, state):\n",
        "    prob = np.random.random()\n",
        "    # print(self.act)\n",
        "    action = np.random.choice(len(self.q_table[state])) \\\n",
        "            if prob<self.epsilon else np.argmax(self.q_table[state])\n",
        "    return action\n"
      ],
      "metadata": {
        "id": "8HZ2whBc_9gh"
      },
      "execution_count": null,
      "outputs": []
    },
    {
      "cell_type": "markdown",
      "source": [
        "Train the agent"
      ],
      "metadata": {
        "id": "qlTXozE-Cp65"
      }
    },
    {
      "cell_type": "code",
      "source": [
        "def trainTD(agent=TabularSARSA(5, 2), env=Corridor(), episodes=100):\n",
        "  for epi in range(episodes):\n",
        "    display = epi%1000==0\n",
        "    if display:\n",
        "      print(f'Episode {epi}:')\n",
        "    state = env.reset()\n",
        "    if display:\n",
        "      env.render()\n",
        "    action = agent.act(state)\n",
        "    done = False\n",
        "    while not done:\n",
        "      state_prime, reward, done = env.step(action)\n",
        "      if display:\n",
        "        env.render()\n",
        "      action_prime = agent.act(state_prime)\n",
        "      agent.q_table[state, action] = reward+agent.gamma*agent.q_table[state_prime, action_prime]\n",
        "      state, action = state_prime, action_prime\n",
        "\n",
        "  agent.print_table()"
      ],
      "metadata": {
        "id": "oIZzakq-CnhQ"
      },
      "execution_count": null,
      "outputs": []
    },
    {
      "cell_type": "code",
      "source": [
        "trainTD()"
      ],
      "metadata": {
        "id": "l4PycTP_MBEb",
        "outputId": "8672fded-879e-44ef-b279-4ee9947a44c8",
        "colab": {
          "base_uri": "https://localhost:8080/"
        }
      },
      "execution_count": null,
      "outputs": [
        {
          "output_type": "stream",
          "name": "stdout",
          "text": [
            "Episode 0:\n",
            "0 * 2 3 4 \n",
            "0 1 * 3 4 \n",
            "0 1 2 * 4 \n",
            "0 1 * 3 4 \n",
            "0 * 2 3 4 \n",
            "0 1 * 3 4 \n",
            "0 1 2 * 4 \n",
            "0 1 * 3 4 \n",
            "0 1 2 * 4 \n",
            "0 1 2 3 * \n",
            "0.0 0.0 \n",
            "0.98010004 0.0 \n",
            "0.99 0.0 \n",
            "1.0 0.0 \n",
            "0.0 0.0 \n",
            "\n"
          ]
        }
      ]
    },
    {
      "cell_type": "markdown",
      "source": [
        "SARSA with a neural network to approximate Q-function"
      ],
      "metadata": {
        "id": "CdYqAmgQHMyO"
      }
    },
    {
      "cell_type": "markdown",
      "source": [
        "SARSA batched memory"
      ],
      "metadata": {
        "id": "K4pMQ51THT2a"
      }
    },
    {
      "cell_type": "code",
      "source": [
        "class Experience:\n",
        "  def __init__(self):\n",
        "    self.label_list = ['states', 'actions', 'rewards', 'next_states',\n",
        "                       'next_actions', 'dones']\n",
        "    self.batch = {\n",
        "        'states':[],\n",
        "        'actions':[],\n",
        "        'rewards':[],\n",
        "        'next_states':[],\n",
        "        'next_actions':[],\n",
        "        'dones':[]\n",
        "    }\n",
        "\n",
        "  def add_exp(self, exp):\n",
        "    for i in range(len(self.label_list)):\n",
        "      self.batch[self.label_list[i]].append([exp[i]])\n",
        "\n",
        "  def reset(self):\n",
        "    for i in self.label_list:\n",
        "      self.batch[i] = []"
      ],
      "metadata": {
        "id": "qK4KSs7iQCzj"
      },
      "execution_count": 8,
      "outputs": []
    },
    {
      "cell_type": "markdown",
      "source": [
        "SARSA agent"
      ],
      "metadata": {
        "id": "PbqCDg_8QaL_"
      }
    },
    {
      "cell_type": "code",
      "source": [
        "class Net(nn.Module):\n",
        "  \n",
        "  def __init__(self, indim, outdim):\n",
        "    super(Net, self).__init__()\n",
        "    self.model = nn.Sequential(*[\n",
        "        nn.Linear(indim, 32),\n",
        "        nn.ReLU(),\n",
        "        nn.Linear(32, 32),\n",
        "        nn.ReLU(),\n",
        "        nn.Linear(32, outdim),\n",
        "        nn.Softmax()\n",
        "    ])\n",
        "  \n",
        "  def forward(self, state):\n",
        "    return self.model(state)"
      ],
      "metadata": {
        "id": "dIqRwCcrHX3Q"
      },
      "execution_count": 18,
      "outputs": []
    },
    {
      "cell_type": "code",
      "source": [
        "class SARSA:\n",
        "  '''\n",
        "  SARSA based on a neural network\n",
        "  '''\n",
        "\n",
        "  def __init__(self, indim, outdim, epsilon=0.9, minie=0.1, gamma=0.999, device='cpu'):\n",
        "    self.epsilon = epsilon\n",
        "    self.gamma = gamma\n",
        "    self.minie = minie\n",
        "    self.device = device\n",
        "    self.net, self.target = Net(indim, outdim), Net(indim, outdim)\n",
        "    self.net, self.target = self.net.to(self.device), self.target.to(self.device)\n",
        "    self.optimizer = optim.Adam(self.net.parameters(), lr=0.01)\n",
        "    self.training = True\n",
        "  \n",
        "  def train(self):\n",
        "    self.training = True\n",
        "  \n",
        "  def eval(self):\n",
        "    self.training = False\n",
        "  \n",
        "  def epsilon_decay(self):\n",
        "    if self.epsilon > self.minie: self.epsilon -= 0.01\n",
        "  \n",
        "  def forward(self, state):\n",
        "    return self.net(state)\n",
        "  \n",
        "  def egreedy(self, actions):\n",
        "    prob = np.random.random()\n",
        "    # print(prob)\n",
        "    # print(actions)\n",
        "    return np.random.choice(len(actions)) if prob<self.epsilon else torch.argmax(actions).item()\n",
        "  \n",
        "  def learn(self, memory):\n",
        "    '''\n",
        "    returns ys according to memory for agent to learn\n",
        "    '''\n",
        "    states = torch.Tensor(memory.batch['states'], device=self.device)\n",
        "    actions = torch.Tensor(memory.batch['actions'], device=self.device)\n",
        "    rewards = torch.Tensor(memory.batch['rewards'], device=self.device)\n",
        "    next_states, next_actions = torch.Tensor(memory.batch['next_states'], device=self.device), torch.Tensor(memory.batch['next_actions'], device=self.device)\n",
        "    dones = torch.Tensor(memory.batch['dones'], device=self.device)\n",
        "    with torch.no_grad():\n",
        "      target_q = self.target(next_states)\n",
        "    target_qa = torch.zeros_like(rewards)\n",
        "    for i in range(len(rewards)):\n",
        "      target_qa[i] = target_q[i][next_actions[i]]\n",
        "\n",
        "    with torch.no_grad():\n",
        "      ys = rewards+(1.-dones)*self.gamma*self.target_qa\n",
        "    qs = self.net(states)\n",
        "    y_hats = torch.zeros_like(rewards)\n",
        "    for i in range(len(rewards)):\n",
        "      y_hats[i] = qs[i][actions[i]]\n",
        "    return ys, y_hats\n",
        "\n",
        "  def act(self, state):\n",
        "    '''\n",
        "    choose action based on epsilon-greedy policy\n",
        "    '''\n",
        "    actions = self.forward(state)\n",
        "    if self.training:\n",
        "      action = self.egreedy(actions)\n",
        "    else:\n",
        "      action = torch.argmax(actions)\n",
        "    # print(action)\n",
        "    return action\n",
        "  \n",
        "  def save(self, path):\n",
        "    torch.save(self.net.state_dict(), path+'.sarsa')\n",
        "  \n",
        "  def load(self, path):\n",
        "    self.net.load_state_dict(path)\n",
        "    self.net.to(self.device)"
      ],
      "metadata": {
        "id": "HvJIPxsBMHhb"
      },
      "execution_count": 71,
      "outputs": []
    },
    {
      "cell_type": "code",
      "source": [
        "def train(env, agent, episodes=1000, lr=0.001):\n",
        "  memory = Experience()\n",
        "  criterion = torch.nn.MSELoss()\n",
        "  loss = 0.\n",
        "  opt = optim.Adam(agent.net.parameters(), lr=lr)\n",
        "  for epi in range(episodes):\n",
        "    memory.reset()\n",
        "    state = env.reset()\n",
        "    state = torch.from_numpy(state)\n",
        "    action = agent.act(state)\n",
        "    # print(action)\n",
        "    done = False\n",
        "    tot_reward = 0\n",
        "    while not done:\n",
        "      next_state, reward, done, _ = env.step(action)\n",
        "      next_state = torch.from_numpy(next_state)\n",
        "      tot_reward += reward\n",
        "      next_action = agent.act(next_state)\n",
        "      exp = [state, action, reward, next_state, next_action, done]\n",
        "      memory.add_exp(exp)\n",
        "      state, action = next_state, next_action\n",
        "    opt.zero_grad()\n",
        "    y, y_hat = agent.learn(memory)\n",
        "    loss = criterion(y_hat, y)\n",
        "    loss.backward()\n",
        "    opt.step()\n",
        "    agent.epsilon_decay\n",
        "    print(f'Episode: {epi}, total reward:{tot_reward}')\n"
      ],
      "metadata": {
        "id": "YuFZJ7sKGJuD"
      },
      "execution_count": 72,
      "outputs": []
    },
    {
      "cell_type": "code",
      "source": [
        "env = gym.make('CartPole-v0')\n",
        "indim = env.observation_space.shape[0]\n",
        "outdim = env.action_space.n \n",
        "agent = SARSA(indim, outdim)\n",
        "train(env, agent)"
      ],
      "metadata": {
        "id": "arJV72cWeUjM",
        "outputId": "279bd689-6c67-42f3-b43f-3c7440733cb4",
        "colab": {
          "base_uri": "https://localhost:8080/",
          "height": 516
        }
      },
      "execution_count": 73,
      "outputs": [
        {
          "output_type": "stream",
          "name": "stderr",
          "text": [
            "/usr/local/lib/python3.7/dist-packages/gym/envs/registration.py:594: UserWarning: \u001b[33mWARN: The environment CartPole-v0 is out of date. You should consider upgrading to version `v1`.\u001b[0m\n",
            "  f\"The environment {id} is out of date. You should consider \"\n",
            "/usr/local/lib/python3.7/dist-packages/gym/core.py:318: DeprecationWarning: \u001b[33mWARN: Initializing wrapper in old step API which returns one bool instead of two. It is recommended to set `new_step_api=True` to use new step API. This will be the default behaviour in future.\u001b[0m\n",
            "  \"Initializing wrapper in old step API which returns one bool instead of two. It is recommended to set `new_step_api=True` to use new step API. This will be the default behaviour in future.\"\n",
            "/usr/local/lib/python3.7/dist-packages/gym/wrappers/step_api_compatibility.py:40: DeprecationWarning: \u001b[33mWARN: Initializing environment in old step API which returns one bool instead of two. It is recommended to set `new_step_api=True` to use new step API. This will be the default behaviour in future.\u001b[0m\n",
            "  \"Initializing environment in old step API which returns one bool instead of two. It is recommended to set `new_step_api=True` to use new step API. This will be the default behaviour in future.\"\n",
            "/usr/local/lib/python3.7/dist-packages/torch/nn/modules/container.py:139: UserWarning: Implicit dimension choice for softmax has been deprecated. Change the call to include dim=X as an argument.\n",
            "  input = module(input)\n"
          ]
        },
        {
          "output_type": "error",
          "ename": "ValueError",
          "evalue": "ignored",
          "traceback": [
            "\u001b[0;31m---------------------------------------------------------------------------\u001b[0m",
            "\u001b[0;31mValueError\u001b[0m                                Traceback (most recent call last)",
            "\u001b[0;32m<ipython-input-73-aad0fa725235>\u001b[0m in \u001b[0;36m<module>\u001b[0;34m\u001b[0m\n\u001b[1;32m      3\u001b[0m \u001b[0moutdim\u001b[0m \u001b[0;34m=\u001b[0m \u001b[0menv\u001b[0m\u001b[0;34m.\u001b[0m\u001b[0maction_space\u001b[0m\u001b[0;34m.\u001b[0m\u001b[0mn\u001b[0m\u001b[0;34m\u001b[0m\u001b[0;34m\u001b[0m\u001b[0m\n\u001b[1;32m      4\u001b[0m \u001b[0magent\u001b[0m \u001b[0;34m=\u001b[0m \u001b[0mSARSA\u001b[0m\u001b[0;34m(\u001b[0m\u001b[0mindim\u001b[0m\u001b[0;34m,\u001b[0m \u001b[0moutdim\u001b[0m\u001b[0;34m)\u001b[0m\u001b[0;34m\u001b[0m\u001b[0;34m\u001b[0m\u001b[0m\n\u001b[0;32m----> 5\u001b[0;31m \u001b[0mtrain\u001b[0m\u001b[0;34m(\u001b[0m\u001b[0menv\u001b[0m\u001b[0;34m,\u001b[0m \u001b[0magent\u001b[0m\u001b[0;34m)\u001b[0m\u001b[0;34m\u001b[0m\u001b[0;34m\u001b[0m\u001b[0m\n\u001b[0m",
            "\u001b[0;32m<ipython-input-72-59539b34e04c>\u001b[0m in \u001b[0;36mtrain\u001b[0;34m(env, agent, episodes, lr)\u001b[0m\n\u001b[1;32m     21\u001b[0m       \u001b[0mstate\u001b[0m\u001b[0;34m,\u001b[0m \u001b[0maction\u001b[0m \u001b[0;34m=\u001b[0m \u001b[0mnext_state\u001b[0m\u001b[0;34m,\u001b[0m \u001b[0mnext_action\u001b[0m\u001b[0;34m\u001b[0m\u001b[0;34m\u001b[0m\u001b[0m\n\u001b[1;32m     22\u001b[0m     \u001b[0mopt\u001b[0m\u001b[0;34m.\u001b[0m\u001b[0mzero_grad\u001b[0m\u001b[0;34m(\u001b[0m\u001b[0;34m)\u001b[0m\u001b[0;34m\u001b[0m\u001b[0;34m\u001b[0m\u001b[0m\n\u001b[0;32m---> 23\u001b[0;31m     \u001b[0my\u001b[0m\u001b[0;34m,\u001b[0m \u001b[0my_hat\u001b[0m \u001b[0;34m=\u001b[0m \u001b[0magent\u001b[0m\u001b[0;34m.\u001b[0m\u001b[0mlearn\u001b[0m\u001b[0;34m(\u001b[0m\u001b[0mmemory\u001b[0m\u001b[0;34m)\u001b[0m\u001b[0;34m\u001b[0m\u001b[0;34m\u001b[0m\u001b[0m\n\u001b[0m\u001b[1;32m     24\u001b[0m     \u001b[0mloss\u001b[0m \u001b[0;34m=\u001b[0m \u001b[0mcriterion\u001b[0m\u001b[0;34m(\u001b[0m\u001b[0my_hat\u001b[0m\u001b[0;34m,\u001b[0m \u001b[0my\u001b[0m\u001b[0;34m)\u001b[0m\u001b[0;34m\u001b[0m\u001b[0;34m\u001b[0m\u001b[0m\n\u001b[1;32m     25\u001b[0m     \u001b[0mloss\u001b[0m\u001b[0;34m.\u001b[0m\u001b[0mbackward\u001b[0m\u001b[0;34m(\u001b[0m\u001b[0;34m)\u001b[0m\u001b[0;34m\u001b[0m\u001b[0;34m\u001b[0m\u001b[0m\n",
            "\u001b[0;32m<ipython-input-71-05da54c3784d>\u001b[0m in \u001b[0;36mlearn\u001b[0;34m(self, memory)\u001b[0m\n\u001b[1;32m     36\u001b[0m     \u001b[0mreturns\u001b[0m \u001b[0mys\u001b[0m \u001b[0maccording\u001b[0m \u001b[0mto\u001b[0m \u001b[0mmemory\u001b[0m \u001b[0;32mfor\u001b[0m \u001b[0magent\u001b[0m \u001b[0mto\u001b[0m \u001b[0mlearn\u001b[0m\u001b[0;34m\u001b[0m\u001b[0;34m\u001b[0m\u001b[0m\n\u001b[1;32m     37\u001b[0m     '''\n\u001b[0;32m---> 38\u001b[0;31m     \u001b[0mstates\u001b[0m \u001b[0;34m=\u001b[0m \u001b[0mtorch\u001b[0m\u001b[0;34m.\u001b[0m\u001b[0mTensor\u001b[0m\u001b[0;34m(\u001b[0m\u001b[0mmemory\u001b[0m\u001b[0;34m.\u001b[0m\u001b[0mbatch\u001b[0m\u001b[0;34m[\u001b[0m\u001b[0;34m'states'\u001b[0m\u001b[0;34m]\u001b[0m\u001b[0;34m,\u001b[0m \u001b[0mdevice\u001b[0m\u001b[0;34m=\u001b[0m\u001b[0mself\u001b[0m\u001b[0;34m.\u001b[0m\u001b[0mdevice\u001b[0m\u001b[0;34m)\u001b[0m\u001b[0;34m\u001b[0m\u001b[0;34m\u001b[0m\u001b[0m\n\u001b[0m\u001b[1;32m     39\u001b[0m     \u001b[0mactions\u001b[0m \u001b[0;34m=\u001b[0m \u001b[0mtorch\u001b[0m\u001b[0;34m.\u001b[0m\u001b[0mTensor\u001b[0m\u001b[0;34m(\u001b[0m\u001b[0mmemory\u001b[0m\u001b[0;34m.\u001b[0m\u001b[0mbatch\u001b[0m\u001b[0;34m[\u001b[0m\u001b[0;34m'actions'\u001b[0m\u001b[0;34m]\u001b[0m\u001b[0;34m,\u001b[0m \u001b[0mdevice\u001b[0m\u001b[0;34m=\u001b[0m\u001b[0mself\u001b[0m\u001b[0;34m.\u001b[0m\u001b[0mdevice\u001b[0m\u001b[0;34m)\u001b[0m\u001b[0;34m\u001b[0m\u001b[0;34m\u001b[0m\u001b[0m\n\u001b[1;32m     40\u001b[0m     \u001b[0mrewards\u001b[0m \u001b[0;34m=\u001b[0m \u001b[0mtorch\u001b[0m\u001b[0;34m.\u001b[0m\u001b[0mTensor\u001b[0m\u001b[0;34m(\u001b[0m\u001b[0mmemory\u001b[0m\u001b[0;34m.\u001b[0m\u001b[0mbatch\u001b[0m\u001b[0;34m[\u001b[0m\u001b[0;34m'rewards'\u001b[0m\u001b[0;34m]\u001b[0m\u001b[0;34m,\u001b[0m \u001b[0mdevice\u001b[0m\u001b[0;34m=\u001b[0m\u001b[0mself\u001b[0m\u001b[0;34m.\u001b[0m\u001b[0mdevice\u001b[0m\u001b[0;34m)\u001b[0m\u001b[0;34m\u001b[0m\u001b[0;34m\u001b[0m\u001b[0m\n",
            "\u001b[0;31mValueError\u001b[0m: only one element tensors can be converted to Python scalars"
          ]
        }
      ]
    },
    {
      "cell_type": "code",
      "source": [],
      "metadata": {
        "id": "sUXYiqEWe5LF"
      },
      "execution_count": null,
      "outputs": []
    }
  ],
  "metadata": {
    "language_info": {
      "name": "python"
    },
    "orig_nbformat": 4,
    "colab": {
      "provenance": []
    },
    "kernelspec": {
      "name": "python3",
      "display_name": "Python 3"
    },
    "gpuClass": "standard"
  },
  "nbformat": 4,
  "nbformat_minor": 0
}